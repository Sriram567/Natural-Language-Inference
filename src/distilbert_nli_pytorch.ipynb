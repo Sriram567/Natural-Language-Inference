{
  "nbformat": 4,
  "nbformat_minor": 0,
  "metadata": {
    "kernelspec": {
      "language": "python",
      "display_name": "Python 3",
      "name": "python3"
    },
    "language_info": {
      "name": "python",
      "version": "3.7.10",
      "mimetype": "text/x-python",
      "codemirror_mode": {
        "name": "ipython",
        "version": 3
      },
      "pygments_lexer": "ipython3",
      "nbconvert_exporter": "python",
      "file_extension": ".py"
    },
    "colab": {
      "provenance": [],
      "collapsed_sections": [
        "BHqpAXipTH-B",
        "x9_msVLYTH-C"
      ],
      "gpuType": "T4"
    },
    "accelerator": "GPU",
    "gpuClass": "standard"
  },
  "cells": [
    {
      "cell_type": "markdown",
      "metadata": {
        "id": "e0xlmN_2TH95"
      },
      "source": [
        "# Setting Environment"
      ]
    },
    {
      "cell_type": "code",
      "metadata": {
        "id": "S6eOgkbETM4r"
      },
      "source": [
        "!pip install transformers"
      ],
      "execution_count": null,
      "outputs": []
    },
    {
      "cell_type": "code",
      "metadata": {
        "execution": {
          "iopub.status.busy": "2021-05-22T18:22:36.396454Z",
          "iopub.execute_input": "2021-05-22T18:22:36.396768Z",
          "iopub.status.idle": "2021-05-22T18:22:36.412405Z",
          "shell.execute_reply.started": "2021-05-22T18:22:36.396741Z",
          "shell.execute_reply": "2021-05-22T18:22:36.411362Z"
        },
        "trusted": true,
        "id": "ZYRlkywfTH98"
      },
      "source": [
        "import sys\n",
        "\n",
        "from google.colab import drive\n",
        "drive.mount('/content/gdrive')"
      ],
      "execution_count": null,
      "outputs": []
    },
    {
      "cell_type": "markdown",
      "metadata": {
        "id": "dyqsMcL6TH98"
      },
      "source": [
        "# Utils Functions"
      ]
    },
    {
      "cell_type": "code",
      "metadata": {
        "execution": {
          "iopub.status.busy": "2021-05-22T18:22:36.413926Z",
          "iopub.execute_input": "2021-05-22T18:22:36.414320Z",
          "iopub.status.idle": "2021-05-22T18:22:36.738700Z",
          "shell.execute_reply.started": "2021-05-22T18:22:36.414279Z",
          "shell.execute_reply": "2021-05-22T18:22:36.737913Z"
        },
        "trusted": true,
        "id": "jUiwn5QfTH99"
      },
      "source": [
        "import torch\n",
        "\n",
        "SEED = 1111\n",
        "torch.manual_seed(SEED)\n",
        "torch.backends.cudnn.deterministic = True"
      ],
      "execution_count": null,
      "outputs": []
    },
    {
      "cell_type": "code",
      "metadata": {
        "execution": {
          "iopub.status.busy": "2021-05-22T18:22:36.741101Z",
          "iopub.execute_input": "2021-05-22T18:22:36.741342Z",
          "iopub.status.idle": "2021-05-22T18:22:39.816045Z",
          "shell.execute_reply.started": "2021-05-22T18:22:36.741317Z",
          "shell.execute_reply": "2021-05-22T18:22:39.815184Z"
        },
        "trusted": true,
        "id": "A6fmllOKTH99"
      },
      "source": [
        "from transformers import AutoTokenizer\n",
        "model_name='distilbert-base-uncased'\n",
        "\n",
        "tokenizer = AutoTokenizer.from_pretrained(model_name)"
      ],
      "execution_count": null,
      "outputs": []
    },
    {
      "cell_type": "code",
      "metadata": {
        "execution": {
          "iopub.status.busy": "2021-05-22T18:22:39.847826Z",
          "iopub.execute_input": "2021-05-22T18:22:39.848458Z",
          "iopub.status.idle": "2021-05-22T18:22:39.856324Z",
          "shell.execute_reply.started": "2021-05-22T18:22:39.848417Z",
          "shell.execute_reply": "2021-05-22T18:22:39.855337Z"
        },
        "trusted": true,
        "id": "dmwYflD8TH9-"
      },
      "source": [
        "init_token = tokenizer.cls_token\n",
        "eos_token = tokenizer.sep_token\n",
        "pad_token = tokenizer.pad_token\n",
        "unk_token = tokenizer.unk_token\n",
        "\n",
        "print(init_token, eos_token, pad_token, unk_token)"
      ],
      "execution_count": null,
      "outputs": []
    },
    {
      "cell_type": "code",
      "metadata": {
        "execution": {
          "iopub.status.busy": "2021-05-22T18:22:39.857905Z",
          "iopub.execute_input": "2021-05-22T18:22:39.858605Z",
          "iopub.status.idle": "2021-05-22T18:22:39.865416Z",
          "shell.execute_reply.started": "2021-05-22T18:22:39.858568Z",
          "shell.execute_reply": "2021-05-22T18:22:39.864368Z"
        },
        "trusted": true,
        "id": "qUcbVwr2TH9_"
      },
      "source": [
        "init_token_idx = tokenizer.cls_token_id\n",
        "eos_token_idx = tokenizer.sep_token_id\n",
        "pad_token_idx = tokenizer.pad_token_id\n",
        "unk_token_idx = tokenizer.unk_token_id\n",
        "\n",
        "print(init_token_idx, eos_token_idx, pad_token_idx, unk_token_idx)"
      ],
      "execution_count": null,
      "outputs": []
    },
    {
      "cell_type": "code",
      "metadata": {
        "execution": {
          "iopub.status.busy": "2021-05-22T18:22:39.866788Z",
          "iopub.execute_input": "2021-05-22T18:22:39.867411Z",
          "iopub.status.idle": "2021-05-22T18:22:39.875804Z",
          "shell.execute_reply.started": "2021-05-22T18:22:39.867372Z",
          "shell.execute_reply": "2021-05-22T18:22:39.874848Z"
        },
        "trusted": true,
        "id": "fHo--jhxTH9_"
      },
      "source": [
        "max_input_length = tokenizer.max_model_input_sizes[model_name]\n",
        "\n",
        "print(max_input_length)\n",
        "\n",
        "max_input_length = 63"
      ],
      "execution_count": null,
      "outputs": []
    },
    {
      "cell_type": "code",
      "metadata": {
        "execution": {
          "iopub.status.busy": "2021-05-22T18:22:39.877189Z",
          "iopub.execute_input": "2021-05-22T18:22:39.877717Z",
          "iopub.status.idle": "2021-05-22T18:22:39.884514Z",
          "shell.execute_reply.started": "2021-05-22T18:22:39.877674Z",
          "shell.execute_reply": "2021-05-22T18:22:39.883641Z"
        },
        "trusted": true,
        "id": "83VWXLVLTH-A"
      },
      "source": [
        "def tokenize_bert(sentence):\n",
        "    tokens = tokenizer.tokenize(sentence) \n",
        "    return tokens"
      ],
      "execution_count": null,
      "outputs": []
    },
    {
      "cell_type": "code",
      "metadata": {
        "execution": {
          "iopub.status.busy": "2021-05-22T18:22:39.885989Z",
          "iopub.execute_input": "2021-05-22T18:22:39.886398Z",
          "iopub.status.idle": "2021-05-22T18:22:39.894256Z",
          "shell.execute_reply.started": "2021-05-22T18:22:39.886361Z",
          "shell.execute_reply": "2021-05-22T18:22:39.893338Z"
        },
        "trusted": true,
        "id": "DYvGYvORTH-A"
      },
      "source": [
        "def split_and_cut(sentence):\n",
        "    tokens = sentence.strip().split(\" \")\n",
        "    tokens = tokens[:max_input_length-1]\n",
        "    return tokens"
      ],
      "execution_count": null,
      "outputs": []
    },
    {
      "cell_type": "code",
      "metadata": {
        "execution": {
          "iopub.status.busy": "2021-05-22T18:22:39.895637Z",
          "iopub.execute_input": "2021-05-22T18:22:39.896302Z",
          "iopub.status.idle": "2021-05-22T18:22:39.904166Z",
          "shell.execute_reply.started": "2021-05-22T18:22:39.896263Z",
          "shell.execute_reply": "2021-05-22T18:22:39.903403Z"
        },
        "trusted": true,
        "id": "6K4QtCsQTH-A"
      },
      "source": [
        "def trim_sentence(sent):\n",
        "    try:\n",
        "        sent = sent.split()\n",
        "        sent = sent[:32]\n",
        "        return \" \".join(sent)\n",
        "    except:\n",
        "        return sent"
      ],
      "execution_count": null,
      "outputs": []
    },
    {
      "cell_type": "markdown",
      "metadata": {
        "id": "BHqpAXipTH-B"
      },
      "source": [
        "# Download Dataset"
      ]
    },
    {
      "cell_type": "code",
      "metadata": {
        "execution": {
          "iopub.status.busy": "2021-05-22T18:22:39.905621Z",
          "iopub.execute_input": "2021-05-22T18:22:39.906075Z",
          "iopub.status.idle": "2021-05-22T18:22:51.266832Z",
          "shell.execute_reply.started": "2021-05-22T18:22:39.906039Z",
          "shell.execute_reply": "2021-05-22T18:22:51.265794Z"
        },
        "trusted": true,
        "id": "GI2wzJciTH-B"
      },
      "source": [
        "!wget https://nlp.stanford.edu/projects/snli/snli_1.0.zip"
      ],
      "execution_count": null,
      "outputs": []
    },
    {
      "cell_type": "code",
      "metadata": {
        "execution": {
          "iopub.status.busy": "2021-05-22T18:22:51.269742Z",
          "iopub.execute_input": "2021-05-22T18:22:51.270159Z",
          "iopub.status.idle": "2021-05-22T18:22:54.896800Z",
          "shell.execute_reply.started": "2021-05-22T18:22:51.270112Z",
          "shell.execute_reply": "2021-05-22T18:22:54.895335Z"
        },
        "trusted": true,
        "id": "hclFoPKmTH-B"
      },
      "source": [
        "from zipfile import ZipFile\n",
        "  \n",
        "# specifying the zip file name\n",
        "file_name = \"snli_1.0.zip\"\n",
        "  \n",
        "# opening the zip file in READ mode\n",
        "with ZipFile(file_name, 'r') as zip:\n",
        "    # printing all the contents of the zip file\n",
        "    zip.printdir()\n",
        "  \n",
        "    # extracting all the files\n",
        "    print('Extracting all the files now...')\n",
        "    zip.extractall()\n",
        "    print('Done!')"
      ],
      "execution_count": null,
      "outputs": []
    },
    {
      "cell_type": "markdown",
      "metadata": {
        "id": "x9_msVLYTH-C"
      },
      "source": [
        "# Prepare Dataset"
      ]
    },
    {
      "cell_type": "code",
      "metadata": {
        "execution": {
          "iopub.status.busy": "2021-05-22T18:22:54.898199Z",
          "iopub.execute_input": "2021-05-22T18:22:54.898549Z",
          "iopub.status.idle": "2021-05-22T18:22:54.904679Z",
          "shell.execute_reply.started": "2021-05-22T18:22:54.898514Z",
          "shell.execute_reply": "2021-05-22T18:22:54.903657Z"
        },
        "trusted": true,
        "id": "J1lTSBY2TH-C"
      },
      "source": [
        "def get_sent1_token_type(sent):\n",
        "    try:\n",
        "        return [0]* len(sent)\n",
        "    except:\n",
        "        return []\n",
        "\n",
        "def get_sent2_token_type(sent):\n",
        "    try:\n",
        "        return [1]* len(sent)\n",
        "    except:\n",
        "        return []\n",
        "    \n",
        "def combine_seq(seq):\n",
        "    return \" \".join(seq)\n",
        "\n",
        "def combine_mask(mask):\n",
        "    mask = [str(m) for m in mask]\n",
        "    return \" \".join(mask)"
      ],
      "execution_count": null,
      "outputs": []
    },
    {
      "cell_type": "code",
      "metadata": {
        "id": "-o_OB1lsTowj"
      },
      "source": [
        "import pandas as pd\n",
        "\n",
        "df_train = pd.read_csv('snli_1.0/snli_1.0_train.txt', sep='\\t')\n",
        "df_dev = pd.read_csv('snli_1.0/snli_1.0_dev.txt', sep='\\t')\n",
        "df_test = pd.read_csv('snli_1.0/snli_1.0_test.txt', sep='\\t')\n",
        "\n",
        "df_train = df_train[['gold_label','sentence1','sentence2']]\n",
        "df_dev = df_dev[['gold_label','sentence1','sentence2']]\n",
        "df_test = df_test[['gold_label','sentence1','sentence2']]\n",
        "\n",
        "df_train = df_train[:40000]\n",
        "df_dev = df_train[:4000]\n",
        "df_test = df_train[:4000]\n",
        "CLS=init_token\n",
        "SEP=eos_token\n",
        "\n",
        "df_train['sentence1'] = df_train['sentence1'].apply(trim_sentence)\n",
        "df_train['sentence2'] = df_train['sentence2'].apply(trim_sentence)\n",
        "df_dev['sentence1'] = df_dev['sentence1'].apply(trim_sentence)\n",
        "df_dev['sentence2'] = df_dev['sentence2'].apply(trim_sentence)\n",
        "df_test['sentence1'] = df_test['sentence1'].apply(trim_sentence)\n",
        "df_test['sentence2'] = df_test['sentence2'].apply(trim_sentence)\n",
        "\n",
        "df_train['sent1'] = f'{CLS} ' + df_train['sentence1'] + f' {SEP} '\n",
        "df_train['sent2'] = df_train['sentence2'] + f' {SEP}'\n",
        "df_dev['sent1'] = f'{CLS} ' + df_dev['sentence1'] + f' {SEP} '\n",
        "df_dev['sent2'] = df_dev['sentence2'] + f' {SEP}'\n",
        "df_test['sent1'] = f'{CLS} ' + df_test['sentence1'] + f' {SEP} '\n",
        "df_test['sent2'] = df_test['sentence2'] + f' {SEP}'\n",
        "\n",
        "df_train['sent1_t'] = df_train['sent1'].apply(tokenize_bert)\n",
        "df_train['sent2_t'] = df_train['sent2'].apply(tokenize_bert)\n",
        "df_dev['sent1_t'] = df_dev['sent1'].apply(tokenize_bert)\n",
        "df_dev['sent2_t'] = df_dev['sent2'].apply(tokenize_bert)\n",
        "df_test['sent1_t'] = df_test['sent1'].apply(tokenize_bert)\n",
        "df_test['sent2_t'] = df_test['sent2'].apply(tokenize_bert)\n",
        "\n",
        "df_train['sent1_token_type'] = df_train['sent1_t'].apply(get_sent1_token_type)\n",
        "df_train['sent2_token_type'] = df_train['sent2_t'].apply(get_sent2_token_type)\n",
        "df_dev['sent1_token_type'] = df_dev['sent1_t'].apply(get_sent1_token_type)\n",
        "df_dev['sent2_token_type'] = df_dev['sent2_t'].apply(get_sent2_token_type)\n",
        "df_test['sent1_token_type'] = df_test['sent1_t'].apply(get_sent1_token_type)\n",
        "df_test['sent2_token_type'] = df_test['sent2_t'].apply(get_sent2_token_type)\n",
        "\n",
        "df_train['sequence'] = df_train['sent1_t'] + df_train['sent2_t']\n",
        "df_dev['sequence'] = df_dev['sent1_t'] + df_dev['sent2_t']\n",
        "df_test['sequence'] = df_test['sent1_t'] + df_test['sent2_t']\n",
        "\n",
        "\n",
        "df_train['attention_mask'] = df_train['sequence'].apply(get_sent2_token_type)\n",
        "df_dev['attention_mask'] = df_dev['sequence'].apply(get_sent2_token_type)\n",
        "df_test['attention_mask'] = df_test['sequence'].apply(get_sent2_token_type)\n",
        "\n",
        "df_train['token_type'] = df_train['sent1_token_type'] + df_train['sent2_token_type']\n",
        "df_dev['token_type'] = df_dev['sent1_token_type'] + df_dev['sent2_token_type']\n",
        "df_test['token_type'] = df_test['sent1_token_type'] + df_test['sent2_token_type']\n",
        "\n",
        "df_train['sequence'] = df_train['sequence'].apply(combine_seq)\n",
        "df_dev['sequence'] = df_dev['sequence'].apply(combine_seq)\n",
        "df_test['sequence'] = df_test['sequence'].apply(combine_seq)\n",
        "\n",
        "df_train['attention_mask'] = df_train['attention_mask'].apply(combine_mask)\n",
        "df_dev['attention_mask'] = df_dev['attention_mask'].apply(combine_mask)\n",
        "df_test['attention_mask'] = df_test['attention_mask'].apply(combine_mask)\n",
        "\n",
        "df_train['token_type'] = df_train['token_type'].apply(combine_mask)\n",
        "df_dev['token_type'] = df_dev['token_type'].apply(combine_mask)\n",
        "df_test['token_type'] = df_test['token_type'].apply(combine_mask)\n",
        "\n",
        "df_train = df_train[['gold_label', 'sequence', 'attention_mask', 'token_type']]\n",
        "df_dev = df_dev[['gold_label', 'sequence', 'attention_mask', 'token_type']]\n",
        "df_test = df_test[['gold_label', 'sequence', 'attention_mask', 'token_type']]\n",
        "\n",
        "\n",
        "\n",
        "df_train = df_train.loc[df_train['gold_label'].isin(['entailment','contradiction','neutral'])]\n",
        "df_dev = df_dev.loc[df_dev['gold_label'].isin(['entailment','contradiction','neutral'])]\n",
        "df_test = df_test.loc[df_test['gold_label'].isin(['entailment','contradiction','neutral'])]\n",
        "\n",
        "\n",
        "\n",
        "df_train.to_csv('snli_1.0/snli_1.0_train.csv', index=False)\n",
        "df_dev.to_csv('snli_1.0/snli_1.0_dev.csv', index=False)\n",
        "df_test.to_csv('snli_1.0/snli_1.0_test.csv', index=False)"
      ],
      "execution_count": null,
      "outputs": []
    },
    {
      "cell_type": "code",
      "metadata": {
        "execution": {
          "iopub.status.busy": "2021-05-22T18:24:05.516834Z",
          "iopub.execute_input": "2021-05-22T18:24:05.517130Z",
          "iopub.status.idle": "2021-05-22T18:24:05.523940Z",
          "shell.execute_reply.started": "2021-05-22T18:24:05.517103Z",
          "shell.execute_reply": "2021-05-22T18:24:05.523027Z"
        },
        "trusted": true,
        "id": "Lmiw-NSBTH-F"
      },
      "source": [
        "print(df_train.iloc[0]['sequence'])\n",
        "print(df_train.iloc[0]['attention_mask'])\n",
        "print(df_train.iloc[0]['token_type'])"
      ],
      "execution_count": null,
      "outputs": []
    },
    {
      "cell_type": "code",
      "metadata": {
        "execution": {
          "iopub.status.busy": "2021-05-22T18:24:05.547967Z",
          "iopub.execute_input": "2021-05-22T18:24:05.548321Z",
          "iopub.status.idle": "2021-05-22T18:24:05.553413Z",
          "shell.execute_reply.started": "2021-05-22T18:24:05.548287Z",
          "shell.execute_reply": "2021-05-22T18:24:05.552328Z"
        },
        "trusted": true,
        "id": "LoERk9gXTH-G"
      },
      "source": [
        "pd.set_option('display.max_colwidth', None)"
      ],
      "execution_count": null,
      "outputs": []
    },
    {
      "cell_type": "code",
      "metadata": {
        "execution": {
          "iopub.status.busy": "2021-05-22T18:24:05.571467Z",
          "iopub.execute_input": "2021-05-22T18:24:05.572040Z",
          "iopub.status.idle": "2021-05-22T18:24:05.582200Z",
          "shell.execute_reply.started": "2021-05-22T18:24:05.571999Z",
          "shell.execute_reply": "2021-05-22T18:24:05.581378Z"
        },
        "trusted": true,
        "id": "jRapwGZtTH-H"
      },
      "source": [
        "def convert_to_int(tok_ids):\n",
        "    tok_ids = [int(x) for x in tok_ids]\n",
        "    return tok_ids"
      ],
      "execution_count": null,
      "outputs": []
    },
    {
      "cell_type": "code",
      "metadata": {
        "execution": {
          "iopub.status.busy": "2021-05-22T18:24:05.584732Z",
          "iopub.execute_input": "2021-05-22T18:24:05.585410Z",
          "iopub.status.idle": "2021-05-22T18:24:05.643159Z",
          "shell.execute_reply.started": "2021-05-22T18:24:05.585369Z",
          "shell.execute_reply": "2021-05-22T18:24:05.642310Z"
        },
        "trusted": true,
        "id": "g77BTYgcTH-H"
      },
      "source": [
        "def padding_tokens(tokens,pd_tkn):\n",
        "    if(len(tokens)<max_input_length-1):\n",
        "        for i in range(max_input_length-1 -len(tokens)):\n",
        "            tokens.append(pd_tkn)\n",
        "    return tokens\n",
        "\n",
        "label2index = {\"entailment\":0,\"neutral\":1,\"contradiction\":2}\n",
        "\n",
        "train_data = {}\n",
        "train_data['sequence'] = []\n",
        "train_data['attention_mask']=[]\n",
        "train_data['token_type']=[]\n",
        "train_data['gold_label']=[]\n",
        "\n",
        "for data_t in df_train['sequence']:\n",
        "  tokens = split_and_cut(data_t)\n",
        "  token_ids = tokenizer.convert_tokens_to_ids(tokens)\n",
        "#   print(len(token_ids),end=\" \")\n",
        "  pd_tokens = padding_tokens(token_ids,pad_token_idx)\n",
        "#   print(len(pd_tokens),end=\" /\")\n",
        "  train_data['sequence'].append(pd_tokens)\n",
        "\n",
        "for data_t in df_train['attention_mask']:\n",
        "  tokens = split_and_cut(data_t)\n",
        "  token_ids = convert_to_int(tokens)\n",
        "  pd_tokens = padding_tokens(token_ids,pad_token_idx)\n",
        "  train_data['attention_mask'].append(pd_tokens)\n",
        "\n",
        "for data_t in df_train['token_type']:\n",
        "  tokens = split_and_cut(data_t)\n",
        "  token_ids = convert_to_int(tokens)\n",
        "  pd_tokens = padding_tokens(token_ids,1)\n",
        "  train_data['token_type'].append(pd_tokens)\n",
        "\n",
        "for t in df_train['gold_label']:\n",
        "    train_data['gold_label'].append(label2index[t])\n",
        "\n",
        "#valid data\n",
        "valid_data = {}\n",
        "valid_data['sequence'] = []\n",
        "valid_data['attention_mask']=[]\n",
        "valid_data['token_type']=[]\n",
        "valid_data['gold_label']=[]\n",
        "\n",
        "for data_t in df_dev['sequence']:\n",
        "  tokens = split_and_cut(data_t)\n",
        "  token_ids = tokenizer.convert_tokens_to_ids(tokens)\n",
        "  pd_tokens = padding_tokens(token_ids,pad_token_idx)\n",
        "  valid_data['sequence'].append(pd_tokens)\n",
        "\n",
        "for data_t in df_dev['attention_mask']:\n",
        "  tokens = split_and_cut(data_t)\n",
        "  token_ids = convert_to_int(tokens)\n",
        "  pd_tokens = padding_tokens(token_ids,pad_token_idx)\n",
        "  valid_data['attention_mask'].append(pd_tokens)\n",
        "\n",
        "for data_t in df_dev['token_type']:\n",
        "  tokens = split_and_cut(data_t)\n",
        "  token_ids = convert_to_int(tokens)\n",
        "  pd_tokens = padding_tokens(token_ids,1)\n",
        "  valid_data['token_type'].append(pd_tokens)\n",
        "\n",
        "for t in df_dev['gold_label']:\n",
        "    valid_data['gold_label'].append(label2index[t])\n",
        "\n",
        "test_data = {}\n",
        "test_data['sequence'] = []\n",
        "test_data['attention_mask']=[]\n",
        "test_data['token_type']=[]\n",
        "test_data['gold_label']=[]\n",
        "\n",
        "for data_t in df_test['sequence']:\n",
        "  tokens = split_and_cut(data_t)\n",
        "  token_ids = tokenizer.convert_tokens_to_ids(tokens)\n",
        "  pd_tokens = padding_tokens(token_ids,pad_token_idx)\n",
        "  test_data['sequence'].append(pd_tokens)\n",
        "\n",
        "for data_t in df_test['attention_mask']:\n",
        "  tokens = split_and_cut(data_t)\n",
        "  token_ids = convert_to_int(tokens)\n",
        "  pd_tokens = padding_tokens(token_ids,pad_token_idx)\n",
        "  test_data['attention_mask'].append(pd_tokens)\n",
        "\n",
        "for data_t in df_test['token_type']:\n",
        "  tokens = split_and_cut(data_t)\n",
        "  token_ids = convert_to_int(tokens)\n",
        "  pd_tokens = padding_tokens(token_ids,1)\n",
        "  test_data['token_type'].append(pd_tokens)\n",
        "\n",
        "for t in df_test['gold_label']:\n",
        "    test_data['gold_label'].append(label2index[t])\n",
        "\n",
        "\n",
        "\n",
        "\n"
      ],
      "execution_count": null,
      "outputs": []
    },
    {
      "cell_type": "code",
      "metadata": {
        "execution": {
          "iopub.status.busy": "2021-05-22T18:24:11.701745Z",
          "iopub.execute_input": "2021-05-22T18:24:11.702103Z",
          "iopub.status.idle": "2021-05-22T18:24:11.731022Z",
          "shell.execute_reply.started": "2021-05-22T18:24:11.702072Z",
          "shell.execute_reply": "2021-05-22T18:24:11.730049Z"
        },
        "trusted": true,
        "id": "V25Nf2FZTH-M"
      },
      "source": [
        "BATCH_SIZE = 16\n",
        "\n",
        "device = torch.device('cuda' if torch.cuda.is_available() else 'cpu')\n",
        "\n",
        "def getDataloader(dataset):\n",
        "    # print(len(dataset[\"premise\"]))\n",
        "    # for i in dataset[\"sequence\"][:100]:\n",
        "    #     print(len(i),end=\" \")\n",
        "    sequence = torch.tensor(dataset[\"sequence\"],dtype=torch.long)\n",
        "    attention_mask = torch.tensor(dataset[\"attention_mask\"],dtype=torch.long)\n",
        "    token_type = torch.tensor(dataset[\"token_type\"],dtype=torch.long)\n",
        "    labels = torch.tensor(dataset[\"gold_label\"],dtype=torch.long)\n",
        "    dataset = torch.utils.data.TensorDataset(sequence,attention_mask,token_type,labels)\n",
        "    dataloader = torch.utils.data.DataLoader(dataset, batch_size=BATCH_SIZE, shuffle=True)\n",
        "    return dataloader\n",
        "  \n",
        "train_dataloader = getDataloader(train_data)\n",
        "valid_dataloader = getDataloader(valid_data)\n",
        "test_dataloader = getDataloader(test_data)"
      ],
      "execution_count": null,
      "outputs": []
    },
    {
      "cell_type": "code",
      "metadata": {
        "execution": {
          "iopub.status.busy": "2021-05-22T18:24:11.732527Z",
          "iopub.execute_input": "2021-05-22T18:24:11.733192Z",
          "iopub.status.idle": "2021-05-22T18:24:36.845015Z",
          "shell.execute_reply.started": "2021-05-22T18:24:11.733148Z",
          "shell.execute_reply": "2021-05-22T18:24:36.844145Z"
        },
        "trusted": true,
        "id": "EssWp8iUTH-N"
      },
      "source": [
        "from transformers import AutoModel\n",
        "\n",
        "bert_model = AutoModel.from_pretrained(model_name,output_hidden_states=True)"
      ],
      "execution_count": null,
      "outputs": []
    },
    {
      "cell_type": "code",
      "metadata": {
        "execution": {
          "iopub.status.busy": "2021-05-22T18:24:36.855932Z",
          "iopub.execute_input": "2021-05-22T18:24:36.856437Z",
          "iopub.status.idle": "2021-05-22T18:24:36.866563Z",
          "shell.execute_reply.started": "2021-05-22T18:24:36.856399Z",
          "shell.execute_reply": "2021-05-22T18:24:36.865841Z"
        },
        "trusted": true,
        "id": "VDo0_WcrTH-N"
      },
      "source": [
        "import torch.nn as nn\n",
        "\n",
        "class BERTNLIModel(nn.Module):\n",
        "    def __init__(self,\n",
        "                 bert_model,\n",
        "                 hidden_dim,\n",
        "                 output_dim,\n",
        "                ):\n",
        "        \n",
        "        super().__init__()\n",
        "        \n",
        "        self.bert = bert_model\n",
        "        \n",
        "        embedding_dim = bert_model.config.hidden_size\n",
        "\n",
        "        self.out = nn.Linear(embedding_dim, output_dim)\n",
        "        \n",
        "        \n",
        "    def forward(self, sequence, attn_mask, token_type):               \n",
        "        embedded = self.bert(input_ids = sequence, attention_mask = attn_mask)[1]       \n",
        "        output = self.out(embedded)\n",
        "        #print('output: ', output.size())\n",
        "        #output = [batch size, out dim]\n",
        "        \n",
        "        return output"
      ],
      "execution_count": null,
      "outputs": []
    },
    {
      "cell_type": "code",
      "metadata": {
        "execution": {
          "iopub.status.busy": "2021-05-22T18:24:36.867698Z",
          "iopub.execute_input": "2021-05-22T18:24:36.868235Z",
          "iopub.status.idle": "2021-05-22T18:24:41.276060Z",
          "shell.execute_reply.started": "2021-05-22T18:24:36.868195Z",
          "shell.execute_reply": "2021-05-22T18:24:41.275145Z"
        },
        "trusted": true,
        "id": "jaloK1rXTH-O"
      },
      "source": [
        "HIDDEN_DIM = 512\n",
        "OUTPUT_DIM = len(label2index)\n",
        "\n",
        "model = BERTNLIModel(bert_model,\n",
        "                         HIDDEN_DIM,\n",
        "                         OUTPUT_DIM,\n",
        "                        ).to(device)"
      ],
      "execution_count": null,
      "outputs": []
    },
    {
      "cell_type": "code",
      "metadata": {
        "execution": {
          "iopub.status.busy": "2021-05-22T18:24:41.312320Z",
          "iopub.execute_input": "2021-05-22T18:24:41.312761Z",
          "iopub.status.idle": "2021-05-22T18:24:48.156690Z",
          "shell.execute_reply.started": "2021-05-22T18:24:41.312719Z",
          "shell.execute_reply": "2021-05-22T18:24:48.154976Z"
        },
        "trusted": true,
        "id": "xWHcwbEuTH-P"
      },
      "source": [
        "from transformers import *"
      ],
      "execution_count": null,
      "outputs": []
    },
    {
      "cell_type": "code",
      "metadata": {
        "execution": {
          "iopub.status.busy": "2021-05-22T18:24:48.158473Z",
          "iopub.execute_input": "2021-05-22T18:24:48.158884Z",
          "iopub.status.idle": "2021-05-22T18:24:48.170838Z",
          "shell.execute_reply.started": "2021-05-22T18:24:48.158822Z",
          "shell.execute_reply": "2021-05-22T18:24:48.167735Z"
        },
        "trusted": true,
        "id": "zcpOWOTdTH-P"
      },
      "source": [
        "import torch.optim as optim\n",
        "\n",
        "#optimizer = optim.Adam(model.parameters())\n",
        "optimizer = AdamW(model.parameters(),lr=2e-5,eps=1e-6,correct_bias=False)\n",
        "\n",
        "def get_scheduler(optimizer, warmup_steps):\n",
        "    scheduler = get_constant_schedule_with_warmup(optimizer, num_warmup_steps=warmup_steps)\n",
        "    return scheduler"
      ],
      "execution_count": null,
      "outputs": []
    },
    {
      "cell_type": "code",
      "metadata": {
        "execution": {
          "iopub.status.busy": "2021-05-22T18:24:48.172358Z",
          "iopub.execute_input": "2021-05-22T18:24:48.172752Z",
          "iopub.status.idle": "2021-05-22T18:24:49.688801Z",
          "shell.execute_reply.started": "2021-05-22T18:24:48.172711Z",
          "shell.execute_reply": "2021-05-22T18:24:49.687709Z"
        },
        "trusted": true,
        "id": "o1oS_9oNTH-Q"
      },
      "source": [
        "criterion = nn.CrossEntropyLoss().to(device)\n",
        "from tqdm import tqdm"
      ],
      "execution_count": null,
      "outputs": []
    },
    {
      "cell_type": "code",
      "metadata": {
        "execution": {
          "iopub.status.busy": "2021-05-22T18:24:49.690480Z",
          "iopub.execute_input": "2021-05-22T18:24:49.691979Z",
          "iopub.status.idle": "2021-05-22T18:24:49.700224Z",
          "shell.execute_reply.started": "2021-05-22T18:24:49.691928Z",
          "shell.execute_reply": "2021-05-22T18:24:49.699269Z"
        },
        "trusted": true,
        "id": "oWYJmI66TH-Q"
      },
      "source": [
        "def categorical_accuracy(preds, y):\n",
        "    max_preds = preds.argmax(dim = 1, keepdim = True) # get the index of the max probability\n",
        "    correct = (max_preds.squeeze(1)==y).float()\n",
        "    return correct.sum() / len(y)"
      ],
      "execution_count": null,
      "outputs": []
    },
    {
      "cell_type": "code",
      "metadata": {
        "execution": {
          "iopub.status.busy": "2021-05-22T18:24:51.141635Z",
          "iopub.execute_input": "2021-05-22T18:24:51.141968Z",
          "iopub.status.idle": "2021-05-22T18:24:51.152037Z",
          "shell.execute_reply.started": "2021-05-22T18:24:51.141934Z",
          "shell.execute_reply": "2021-05-22T18:24:51.151084Z"
        },
        "trusted": true,
        "id": "LGxOjwjkTH-Q"
      },
      "source": [
        "max_grad_norm = 1\n",
        "\n",
        "def train(model, iterator, optimizer, criterion, scheduler):\n",
        "    #print(iterator)\n",
        "    \n",
        "    epoch_loss = 0\n",
        "    epoch_acc = 0\n",
        "    \n",
        "    model.train()\n",
        "    \n",
        "    for sequence,attn_mask,token_type,label in tqdm(iterator):\n",
        "\n",
        "        optimizer.zero_grad() # clear gradients first\n",
        "        torch.cuda.empty_cache() # releases all unoccupied cached memory \n",
        "        \n",
        "        sequence,attn_mask,token_type,label = sequence.to(device),attn_mask.to(device),token_type.to(device),label.to(device)\n",
        "        \n",
        "        predictions = model(sequence, attn_mask)\n",
        "        \n",
        "        \n",
        "        loss = criterion(predictions, label)\n",
        "        \n",
        "        acc = categorical_accuracy(predictions, label)\n",
        "        loss.backward()\n",
        "        \n",
        "        optimizer.step()\n",
        "        scheduler.step()\n",
        "        \n",
        "        epoch_loss += loss.item()\n",
        "        epoch_acc += acc.item()\n",
        "        \n",
        "    return epoch_loss / len(iterator), epoch_acc / len(iterator)"
      ],
      "execution_count": null,
      "outputs": []
    },
    {
      "cell_type": "code",
      "metadata": {
        "execution": {
          "iopub.status.busy": "2021-05-22T18:24:51.153318Z",
          "iopub.execute_input": "2021-05-22T18:24:51.153732Z",
          "iopub.status.idle": "2021-05-22T18:24:51.166942Z",
          "shell.execute_reply.started": "2021-05-22T18:24:51.153685Z",
          "shell.execute_reply": "2021-05-22T18:24:51.166060Z"
        },
        "trusted": true,
        "id": "PjPxruc3TH-R"
      },
      "source": [
        "def evaluate(model, iterator, criterion):\n",
        "    #print(iterator)\n",
        "    epoch_loss = 0\n",
        "    epoch_acc = 0\n",
        "    \n",
        "    model.eval()\n",
        "    \n",
        "    with torch.no_grad():\n",
        "    \n",
        "        for sequence,attn_mask,token_type,labels in tqdm(iterator):\n",
        "            sequence,attn_mask,token_type,labels = sequence.to(device),attn_mask.to(device),token_type.to(device),labels.to(device)\n",
        "            predictions = model(sequence, attn_mask)\n",
        "            \n",
        "            loss = criterion(predictions, labels)\n",
        "                \n",
        "            acc = categorical_accuracy(predictions, labels)\n",
        "            \n",
        "            epoch_loss += loss.item()\n",
        "            epoch_acc += acc.item()\n",
        "        \n",
        "    return epoch_loss / len(iterator), epoch_acc / len(iterator)"
      ],
      "execution_count": null,
      "outputs": []
    },
    {
      "cell_type": "code",
      "metadata": {
        "execution": {
          "iopub.status.busy": "2021-05-22T18:24:51.169166Z",
          "iopub.execute_input": "2021-05-22T18:24:51.170246Z",
          "iopub.status.idle": "2021-05-22T18:24:51.181751Z",
          "shell.execute_reply.started": "2021-05-22T18:24:51.170216Z",
          "shell.execute_reply": "2021-05-22T18:24:51.181031Z"
        },
        "trusted": true,
        "id": "xIoYct0uTH-R"
      },
      "source": [
        "import time\n",
        "\n",
        "def epoch_time(start_time, end_time):\n",
        "    elapsed_time = end_time - start_time\n",
        "    elapsed_mins = int(elapsed_time / 60)\n",
        "    elapsed_secs = int(elapsed_time - (elapsed_mins * 60))\n",
        "    return elapsed_mins, elapsed_secs"
      ],
      "execution_count": null,
      "outputs": []
    },
    {
      "cell_type": "code",
      "metadata": {
        "trusted": true,
        "id": "x2U1fUSWTH-R"
      },
      "source": [],
      "execution_count": null,
      "outputs": []
    },
    {
      "cell_type": "code",
      "metadata": {
        "execution": {
          "iopub.status.busy": "2021-05-22T18:24:51.183111Z",
          "iopub.execute_input": "2021-05-22T18:24:51.183483Z",
          "iopub.status.idle": "2021-05-22T19:43:27.258977Z",
          "shell.execute_reply.started": "2021-05-22T18:24:51.183445Z",
          "shell.execute_reply": "2021-05-22T19:43:27.257798Z"
        },
        "trusted": true,
        "id": "36KbCzW2TH-S"
      },
      "source": [
        "import math\n",
        "N_EPOCHS = 6\n",
        "\n",
        "warmup_percent = 0.2\n",
        "total_steps = math.ceil(N_EPOCHS*len(train_data['sequence'])*1./BATCH_SIZE)\n",
        "warmup_steps = int(total_steps*warmup_percent)\n",
        "scheduler = get_scheduler(optimizer, warmup_steps)\n",
        "\n",
        "best_valid_loss = float('inf')\n",
        "\n",
        "for epoch in range(N_EPOCHS):\n",
        "\n",
        "    start_time = time.time()\n",
        "    \n",
        "    train_loss, train_acc = train(model, train_dataloader, optimizer, criterion, scheduler)\n",
        "    valid_loss, valid_acc = evaluate(model, valid_dataloader, criterion)\n",
        "    \n",
        "    end_time = time.time()\n",
        "\n",
        "    epoch_mins, epoch_secs = epoch_time(start_time, end_time)\n",
        "    \n",
        "    if valid_loss < best_valid_loss:\n",
        "        best_valid_loss = valid_loss\n",
        "    torch.save(model.state_dict(), f'bert-nli_{epoch}.pt')\n",
        "    \n",
        "    print(f'Epoch: {epoch+1:02} | Epoch Time: {epoch_mins}m {epoch_secs}s')\n",
        "    print(f'\\tTrain Loss: {train_loss:.3f} | Train Acc: {train_acc*100:.2f}%')\n",
        "    print(f'\\t Val. Loss: {valid_loss:.3f} |  Val. Acc: {valid_acc*100:.2f}%')"
      ],
      "execution_count": null,
      "outputs": []
    },
    {
      "cell_type": "code",
      "metadata": {
        "execution": {
          "iopub.status.busy": "2021-05-22T19:43:27.263388Z",
          "iopub.execute_input": "2021-05-22T19:43:27.265736Z",
          "iopub.status.idle": "2021-05-22T19:43:39.283837Z",
          "shell.execute_reply.started": "2021-05-22T19:43:27.265691Z",
          "shell.execute_reply": "2021-05-22T19:43:39.282313Z"
        },
        "trusted": true,
        "id": "-pTN9d9BTH-S"
      },
      "source": [
        "model.load_state_dict(torch.load('bert-nli.pt'))\n",
        "\n",
        "test_loss, test_acc = evaluate(model, test_dataloader, criterion)\n",
        "\n",
        "print(f'Test Loss: {test_loss:.3f} |  Test Acc: {test_acc*100:.2f}%')"
      ],
      "execution_count": null,
      "outputs": []
    },
    {
      "cell_type": "code",
      "metadata": {
        "execution": {
          "iopub.status.busy": "2021-05-22T19:43:39.285211Z",
          "iopub.execute_input": "2021-05-22T19:43:39.285573Z",
          "iopub.status.idle": "2021-05-22T19:43:39.293377Z",
          "shell.execute_reply.started": "2021-05-22T19:43:39.285534Z",
          "shell.execute_reply": "2021-05-22T19:43:39.292238Z"
        },
        "trusted": true,
        "id": "clPjVrsVTH-S"
      },
      "source": [
        "index2label={0:\"entailment\",1:\"neutral\",2:\"contradiction\"}\n",
        "def predict_inference(premise, hypothesis, model, device):\n",
        "    \n",
        "    model.eval()\n",
        "    \n",
        "    premise = '[CLS] ' + premise + ' [SEP]'\n",
        "    hypothesis = hypothesis + ' [SEP]'\n",
        "    \n",
        "    prem_t = tokenize_bert(premise)\n",
        "    hypo_t = tokenize_bert(hypothesis)\n",
        "    \n",
        "    #print(len(prem_t), len(hypo_t))\n",
        "    \n",
        "    prem_type = get_sent1_token_type(prem_t)\n",
        "    hypo_type = get_sent2_token_type(hypo_t)\n",
        "    \n",
        "    #print(len(prem_type), len(hypo_type))\n",
        "    \n",
        "    indexes = prem_t + hypo_t\n",
        "    \n",
        "    indexes = tokenizer.convert_tokens_to_ids(indexes)\n",
        "    #print(indexes)\n",
        "    indexes_type = prem_type + hypo_type\n",
        "    #print(indexes_type)\n",
        "    \n",
        "    attn_mask = get_sent2_token_type(indexes)\n",
        "    #print(attn_mask)\n",
        "    \n",
        "    #print(len(indexes))\n",
        "    #print(len(indexes_type))\n",
        "    #print(len(attn_mask))\n",
        "\n",
        "    #seq = '[CLS] '+ premise + ' [SEP] '+ hypothesis \n",
        "\n",
        "    #tokens = tokenizer.tokenize(seq)\n",
        "\n",
        "    #indexes = tokenizer.convert_tokens_to_ids(tokens)\n",
        "    \n",
        "    indexes = torch.LongTensor(indexes).unsqueeze(0).to(device)\n",
        "    indexes_type = torch.LongTensor(indexes_type).unsqueeze(0).to(device)\n",
        "    attn_mask = torch.LongTensor(attn_mask).unsqueeze(0).to(device)\n",
        "    \n",
        "    #print(indexes.size())\n",
        "    \n",
        "    prediction = model(indexes, attn_mask, indexes_type)\n",
        "    \n",
        "    prediction = prediction.argmax(dim=-1).item()\n",
        "    \n",
        "    return index2label[prediction]"
      ],
      "execution_count": null,
      "outputs": []
    },
    {
      "cell_type": "code",
      "metadata": {
        "execution": {
          "iopub.status.busy": "2021-05-22T19:43:39.294655Z",
          "iopub.execute_input": "2021-05-22T19:43:39.295190Z",
          "iopub.status.idle": "2021-05-22T19:43:39.345334Z",
          "shell.execute_reply.started": "2021-05-22T19:43:39.295145Z",
          "shell.execute_reply": "2021-05-22T19:43:39.344616Z"
        },
        "trusted": true,
        "id": "Hxb5rikYTH-T"
      },
      "source": [
        "premise = 'a man sitting on a green bench.'\n",
        "hypothesis = 'a woman sitting on a green bench.'\n",
        "\n",
        "predict_inference(premise, hypothesis, model, device)"
      ],
      "execution_count": null,
      "outputs": []
    },
    {
      "cell_type": "code",
      "metadata": {
        "execution": {
          "iopub.status.busy": "2021-05-22T19:43:39.346465Z",
          "iopub.execute_input": "2021-05-22T19:43:39.346775Z",
          "iopub.status.idle": "2021-05-22T19:43:39.382134Z",
          "shell.execute_reply.started": "2021-05-22T19:43:39.346742Z",
          "shell.execute_reply": "2021-05-22T19:43:39.381216Z"
        },
        "trusted": true,
        "id": "2I-cDRfXTH-T"
      },
      "source": [
        "premise = 'a man sitting on a green bench.'\n",
        "hypothesis = 'a man sitting on a blue bench.'\n",
        "\n",
        "predict_inference(premise, hypothesis, model, device)"
      ],
      "execution_count": null,
      "outputs": []
    },
    {
      "cell_type": "code",
      "metadata": {
        "execution": {
          "iopub.status.busy": "2021-05-22T19:43:39.383222Z",
          "iopub.execute_input": "2021-05-22T19:43:39.383665Z",
          "iopub.status.idle": "2021-05-22T19:43:39.421339Z",
          "shell.execute_reply.started": "2021-05-22T19:43:39.383628Z",
          "shell.execute_reply": "2021-05-22T19:43:39.420435Z"
        },
        "trusted": true,
        "id": "blZecUUDTH-U"
      },
      "source": [
        "premise = 'I am lying down on bed.'\n",
        "hypothesis = 'I am resting on bed.'\n",
        "\n",
        "predict_inference(premise, hypothesis, model, device)"
      ],
      "execution_count": null,
      "outputs": []
    },
    {
      "cell_type": "code",
      "metadata": {
        "execution": {
          "iopub.status.busy": "2021-05-22T19:43:39.422429Z",
          "iopub.execute_input": "2021-05-22T19:43:39.422755Z",
          "iopub.status.idle": "2021-05-22T19:43:39.458545Z",
          "shell.execute_reply.started": "2021-05-22T19:43:39.422722Z",
          "shell.execute_reply": "2021-05-22T19:43:39.457617Z"
        },
        "trusted": true,
        "id": "Ra1Ex97jTH-U"
      },
      "source": [
        "premise = 'I go to office on my personal car.'\n",
        "hypothesis = 'I have to share office cab for reaching office.'\n",
        "\n",
        "predict_inference(premise, hypothesis, model, device)"
      ],
      "execution_count": null,
      "outputs": []
    },
    {
      "cell_type": "code",
      "metadata": {
        "execution": {
          "iopub.status.busy": "2021-05-22T19:43:39.459640Z",
          "iopub.execute_input": "2021-05-22T19:43:39.459985Z",
          "iopub.status.idle": "2021-05-22T19:43:39.498287Z",
          "shell.execute_reply.started": "2021-05-22T19:43:39.459951Z",
          "shell.execute_reply": "2021-05-22T19:43:39.497356Z"
        },
        "trusted": true,
        "id": "j9Y0i_1xTH-U"
      },
      "source": [
        "premise = 'I love to play cricket.'\n",
        "hypothesis = 'I enjoy playing football.'\n",
        "\n",
        "predict_inference(premise, hypothesis, model, device)"
      ],
      "execution_count": null,
      "outputs": []
    },
    {
      "cell_type": "code",
      "metadata": {
        "execution": {
          "iopub.status.busy": "2021-05-22T19:43:39.499376Z",
          "iopub.execute_input": "2021-05-22T19:43:39.499708Z",
          "iopub.status.idle": "2021-05-22T19:43:39.537532Z",
          "shell.execute_reply.started": "2021-05-22T19:43:39.499675Z",
          "shell.execute_reply": "2021-05-22T19:43:39.536636Z"
        },
        "trusted": true,
        "id": "K8_YE-R5TH-V"
      },
      "source": [
        "premise = 'He is techy.'\n",
        "hypothesis = 'He has no idea of tech.'\n",
        "\n",
        "predict_inference(premise, hypothesis, model, device)"
      ],
      "execution_count": null,
      "outputs": []
    },
    {
      "cell_type": "code",
      "metadata": {
        "execution": {
          "iopub.status.busy": "2021-05-22T19:43:39.538597Z",
          "iopub.execute_input": "2021-05-22T19:43:39.539065Z",
          "iopub.status.idle": "2021-05-22T19:43:39.585624Z",
          "shell.execute_reply.started": "2021-05-22T19:43:39.539029Z",
          "shell.execute_reply": "2021-05-22T19:43:39.584727Z"
        },
        "trusted": true,
        "id": "lhFq0CRcTH-V"
      },
      "source": [
        "premise = 'I am using mobile phone.'\n",
        "hypothesis = 'I have mobile in my hand.'\n",
        "\n",
        "predict_inference(premise, hypothesis, model, device)"
      ],
      "execution_count": null,
      "outputs": []
    },
    {
      "cell_type": "code",
      "metadata": {
        "id": "xQ1wOHoITH-V"
      },
      "source": [],
      "execution_count": null,
      "outputs": []
    }
  ]
}